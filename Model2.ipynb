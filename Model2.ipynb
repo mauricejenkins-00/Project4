{
 "cells": [
  {
   "cell_type": "code",
   "execution_count": 1,
   "id": "d39306cb-55ff-454f-a703-c391e0fb7ea4",
   "metadata": {},
   "outputs": [],
   "source": [
    "import numpy as np\n",
    "import pandas as pd\n",
    "\n",
    "#!pip install xgboost\n",
    "import xgboost as xgb\n",
    "\n",
    "from sklearn.model_selection import train_test_split\n",
    "from sklearn.model_selection import GridSearchCV\n",
    "from sklearn.metrics import roc_auc_score\n",
    "\n",
    "#!pip install shap\n",
    "import matplotlib.pyplot as plt"
   ]
  },
  {
   "cell_type": "code",
   "execution_count": null,
   "id": "6e0bfeb8-17dc-460e-a046-9a858b8514cf",
   "metadata": {},
   "outputs": [],
   "source": [
    "fTest = pd.read_csv('Resources/test.csv')\n",
    "fTest.head()"
   ]
  },
  {
   "cell_type": "code",
   "execution_count": null,
   "id": "f6ecf5be-88a0-4f57-867e-5a5053c1b541",
   "metadata": {},
   "outputs": [],
   "source": [
    "dfTrain=pd.read_csv('Resources/train.csv')\n",
    "dfTrain.head()"
   ]
  },
  {
   "cell_type": "code",
   "execution_count": null,
   "id": "3e9515b1-11bb-4d6b-90a0-e27e3e6884dc",
   "metadata": {},
   "outputs": [],
   "source": [
    "var_columns=[c for c in dfTrain.columns if c not in ['ID_code', 'target']]\n",
    "X = dfTrain.loc[:, var_columns]\n",
    "y=dfTrain.loc[:, 'target']\n",
    "X_train, X_valid, y_train, y_valid = train_test_split (X,y, test_size=.2)\n",
    "X_train.shape, X_valid.shape, y_train.shape, y_valid.shape"
   ]
  },
  {
   "cell_type": "code",
   "execution_count": null,
   "id": "f3e0c4f7-3f3d-4ea9-8272-527a9c092780",
   "metadata": {},
   "outputs": [],
   "source": [
    "xgb.XGBClassifier().get_params()"
   ]
  },
  {
   "cell_type": "code",
   "execution_count": null,
   "id": "8ee5e134-51c8-4276-a68a-0755d7f9a77f",
   "metadata": {},
   "outputs": [],
   "source": [
    "model_xgboost = xgb.XGBClassifier(learning_rate=.01,\n",
    "                                     max_depth=5,\n",
    "                                     n_estimators=500,\n",
    "                                     subsample=.5,\n",
    "                                     colsample_bytree=.5,\n",
    "                                     eval_metric='auc',\n",
    "                                     verbosity=1,\n",
    "                                    random_state=1)\n",
    "\n",
    "eval_set =[(X_valid, y_valid)]\n",
    "\n",
    "model_xgboost.fit(X_train,\n",
    "                 y_train,\n",
    "                 early_stopping_rounds=10,\n",
    "                 eval_set=eval_set,\n",
    "                 verbose=True)"
   ]
  },
  {
   "cell_type": "markdown",
   "id": "43e004e4-841e-44ff-923f-ade4a55c313c",
   "metadata": {},
   "source": [
    "# Evaluate Model Performance"
   ]
  },
  {
   "cell_type": "code",
   "execution_count": null,
   "id": "3db96e3e-5b9b-4c9a-9f22-4bf3a94d9916",
   "metadata": {},
   "outputs": [],
   "source": [
    "y_train_pred = model_xgboost.predict_proba(X_train)[:,1]\n",
    "y_valid_pred = model_xgboost.predict_proba(X_valid)[:,1]\n",
    "\n",
    "print(\"AUC Train: {:.4f}\\nAUC Valid {:.4f}\".format(roc_auc_score(y_train, y_train_pred), roc_auc_score(y_valid,y_valid_pred)))"
   ]
  },
  {
   "cell_type": "markdown",
   "id": "667e9393-c8a4-414e-99ec-b2ddd777c096",
   "metadata": {},
   "source": [
    "# Hyperparameter Tuning"
   ]
  },
  {
   "cell_type": "code",
   "execution_count": null,
   "id": "c89bafe9-c054-4655-8507-2d2133f7ceb4",
   "metadata": {},
   "outputs": [],
   "source": [
    "learning_rate_list = [0.02, 0.05, .1]\n",
    "num_parallel_tree_list =[1,3,5]\n",
    "n_estimators_list = [500, 750, 1000]\n",
    "params_dict = {'learning_rate' : learning_rate_list,\n",
    "               'num_parallel_tree': num_parallel_tree_list,\n",
    "               'n_estimators': n_estimators_list}\n",
    "num_combinations=1\n",
    "for v in params_dict.values(): num_combinations  *= len (v)\n",
    "    \n",
    "print(num_combinations)\n",
    "params_dict"
   ]
  },
  {
   "cell_type": "code",
   "execution_count": null,
   "id": "1808b4ae-4027-4c8a-afdb-74540629d925",
   "metadata": {},
   "outputs": [],
   "source": [
    "def my_roc_auc_score(model, X, y): return roc_auc_score(y, model.predict_proba(X)[:,1])\n",
    "model_xgboost_hp= GridSearchCV(estimator=xgb.XGBClassifier(subsample=.5,\n",
    "                                                          colsample_bytree=.25,\n",
    "                                                          eval_metric='auc',\n",
    "                                                          use_label_encoder=False),\n",
    "                              param_grid=params_dict,\n",
    "                              cv=2,\n",
    "                              scoring=my_roc_auc_score,\n",
    "                              return_train_score=True,\n",
    "                              verbose=4)\n",
    "model_xgboost_hp.fit(X,y)"
   ]
  },
  {
   "cell_type": "code",
   "execution_count": null,
   "id": "ec20b5c5-7a7f-4bd5-a935-866a2dc170d5",
   "metadata": {},
   "outputs": [],
   "source": [
    "df_cv_results2 = pd.DataFrame(model_xgboost_hp.cv_results_)\n",
    "df_cv_reults2 = df_cv_results[['rank_test_score', 'mean_test_score', 'param_learning_rate', 'param_num_parallel_tree_list', 'param_n_estimators' ]]\n",
    "df_cv_results2.sort_values(by='rank_test_score', inplace=True)\n",
    "df_cv_results2"
   ]
  },
  {
   "cell_type": "code",
   "execution_count": null,
   "id": "437efb38-b23b-4aec-805c-5ec18c109ac1",
   "metadata": {},
   "outputs": [],
   "source": [
    "\n",
    "#df_cv_results.to_csv('output/model2.csv')\n"
   ]
  }
 ],
 "metadata": {
  "kernelspec": {
   "display_name": "Python 3",
   "language": "python",
   "name": "python3"
  },
  "language_info": {
   "codemirror_mode": {
    "name": "ipython",
    "version": 3
   },
   "file_extension": ".py",
   "mimetype": "text/x-python",
   "name": "python",
   "nbconvert_exporter": "python",
   "pygments_lexer": "ipython3",
   "version": "3.8.8"
  }
 },
 "nbformat": 4,
 "nbformat_minor": 5
}
