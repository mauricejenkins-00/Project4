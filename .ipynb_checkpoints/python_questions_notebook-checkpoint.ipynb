{
 "cells": [
  {
   "cell_type": "code",
   "execution_count": 1,
   "id": "4cbdd343-ecdf-484b-aa9a-482f22120722",
   "metadata": {},
   "outputs": [
    {
     "name": "stdout",
     "output_type": "stream",
     "text": [
      "2200\n"
     ]
    }
   ],
   "source": [
    "# Given two non-negative integers num1 and num2 represented as string, return the sum of num1 and num2.\n",
    "# You must not use any built-in BigInteger library or convert the inputs to integer directly.\n",
    "\n",
    "#Both num1 and num2 must not contain any leading zero.\n",
    "\n",
    "num1 = '364'\n",
    "num2 = '1836'\n",
    "\n",
    "# Approach 1: \n",
    "def solution(num1,num2):\n",
    "    eval(num1) + eval(num2)\n",
    "    return str(eval(num1) + eval(num2))\n",
    "            \n",
    "print(solution(num1,num2))\n",
    "\n",
    "#Approach2 \n",
    "#Given a string of length one, the ord() function returns an integer representing the Unicode code point of the character \n",
    "#when the argument is a unicode object, or the value of the byte when the argument is an 8-bit string.\n",
    "\n",
    "def solution(num1, num2):\n",
    "    n1, n2 = 0, 0\n",
    "    m1, m2 = 10**(len(num1)-1), 10**(len(num2)-1)\n",
    "\n",
    "    for i in num1:\n",
    "        n1 += (ord(i) - ord(\"0\")) * m1 \n",
    "        m1 = m1//10        \n",
    "\n",
    "    for i in num2:\n",
    "        n2 += (ord(i) - ord(\"0\")) * m2\n",
    "        m2 = m2//10\n",
    "\n",
    "    return str(n1 + n2)\n",
    "print(solution(num1, num2))"
   ]
  },
  {
   "cell_type": "code",
   "execution_count": 2,
   "id": "35811c0e-42be-4ac9-becf-d24435cb3752",
   "metadata": {},
   "outputs": [
    {
     "name": "stdout",
     "output_type": "stream",
     "text": [
      "1\n",
      "2\n",
      "1\n",
      "###\n",
      "1\n",
      "2\n",
      "1\n"
     ]
    }
   ],
   "source": [
    "# Given a string, find the first non-repeating character in it and return its index. \n",
    "# If it doesn't exist, return -1. # Note: all the input strings are already lowercase.\n",
    "\n",
    "#Approach 1\n",
    "def solution(s):\n",
    "    frequency = {}\n",
    "    for i in s:\n",
    "        if i not in frequency:\n",
    "            frequency[i] = 1\n",
    "        else:\n",
    "            frequency[i] +=1\n",
    "    for i in range(len(s)):\n",
    "        if frequency[s[i]] == 1:\n",
    "            return i\n",
    "    return -1\n",
    "\n",
    "print(solution('alphabet'))\n",
    "print(solution('barbados'))\n",
    "print(solution('crunchy'))\n",
    "\n",
    "print('###')\n",
    "\n",
    "#Approach 2\n",
    "import collections\n",
    "\n",
    "def solution(s):\n",
    "    # build hash map : character and how often it appears\n",
    "    count = collections.Counter(s) # <-- gives back a dictionary with words occurrence count \n",
    "                                         #Counter({'l': 1, 'e': 3, 't': 1, 'c': 1, 'o': 1, 'd': 1})\n",
    "    # find the index\n",
    "    for idx, ch in enumerate(s):\n",
    "        if count[ch] == 1:\n",
    "            return idx     \n",
    "    return -1\n",
    "\n",
    "print(solution('alphabet'))\n",
    "print(solution('barbados'))\n",
    "print(solution('crunchy'))"
   ]
  },
  {
   "cell_type": "code",
   "execution_count": 3,
   "id": "f46389d9-184e-4bd7-a65b-201852388ba4",
   "metadata": {},
   "outputs": [
    {
     "data": {
      "text/plain": [
       "True"
      ]
     },
     "execution_count": 3,
     "metadata": {},
     "output_type": "execute_result"
    }
   ],
   "source": [
    "#Create a function that checks if a set of characters when a single character is removed can be considered a palidrome\n",
    "\n",
    "s = 'radkar'\n",
    "def solution(s):\n",
    "    for i in range(len(s)):\n",
    "        t = s[:i] + s[i+1:]\n",
    "        if t == t[::-1]: return True\n",
    "\n",
    "    return s == s[::-1]\n",
    "  \n",
    "solution(s)"
   ]
  },
  {
   "cell_type": "code",
   "execution_count": 4,
   "id": "e49b01dd-f7ca-4ecf-a6d2-0655dec13202",
   "metadata": {},
   "outputs": [
    {
     "name": "stdout",
     "output_type": "stream",
     "text": [
      "True\n"
     ]
    }
   ],
   "source": [
    "# Python3 program to find sum in Nth group\n",
    "  \n",
    "# Check if given array is Monotonic\n",
    "def isMonotonic(A):\n",
    "  \n",
    "    return (all(A[i] <= A[i + 1] for i in range(len(A) - 1)) or\n",
    "            all(A[i] >= A[i + 1] for i in range(len(A) - 1)))\n",
    "  \n",
    "# Driver program\n",
    "A = [6, 5, 4, 4]\n",
    "  \n",
    "# Print required result\n",
    "print(isMonotonic(A))"
   ]
  },
  {
   "cell_type": "code",
   "execution_count": 5,
   "id": "66bb5442-7d69-46db-a718-d6a99cec1369",
   "metadata": {},
   "outputs": [
    {
     "data": {
      "text/plain": [
       "[1, 7, 8, 10, 12, 4, 0, 0, 0, 0]"
      ]
     },
     "execution_count": 5,
     "metadata": {},
     "output_type": "execute_result"
    }
   ],
   "source": [
    "#Given an array nums, write a function to move all zeroes to the end of it while maintaining the relative order of \n",
    "#the non-zero elements.\n",
    "\n",
    "array1 = [0,1,0,3,12]\n",
    "array2 = [1,7,0,0,8,0,10,12,0,4]\n",
    "\n",
    "def solution(nums):\n",
    "    for i in nums:\n",
    "        if 0 in nums:\n",
    "            nums.remove(0)\n",
    "            nums.append(0)\n",
    "    return nums\n",
    "\n",
    "solution(array1)\n",
    "solution(array2)"
   ]
  },
  {
   "cell_type": "code",
   "execution_count": 7,
   "id": "67ec5bba-970c-461a-bd4e-9dfda3a38104",
   "metadata": {},
   "outputs": [
    {
     "data": {
      "text/plain": [
       "[1, 1, 2, 3, 3, 3, 5, 5]"
      ]
     },
     "execution_count": 7,
     "metadata": {},
     "output_type": "execute_result"
    }
   ],
   "source": [
    "# Given an array containing None values fill in the None values with most recent \n",
    "# non None value in the array \n",
    "array1 = [1,None,2,3,None,None,5,None]\n",
    "\n",
    "def solution(array):\n",
    "    valid = 0            \n",
    "    res = []                 \n",
    "    for i in array1: \n",
    "        if i is not None:    \n",
    "            res.append(i)\n",
    "            valid = i\n",
    "        else:\n",
    "            res.append(valid)\n",
    "    return res\n",
    "\n",
    "solution(array1)"
   ]
  },
  {
   "cell_type": "code",
   "execution_count": 8,
   "id": "81a0c250-d98f-4831-9080-16577a9c721e",
   "metadata": {},
   "outputs": [
    {
     "name": "stdout",
     "output_type": "stream",
     "text": [
      "(['The', 'We', 'a', 'are', 'by', 'heavy', 'hit', 'in', 'meet', 'our', 'pleased', 'storm', 'to', 'was', 'you'], ['city', 'really'])\n"
     ]
    }
   ],
   "source": [
    "#Given two sentences, return an array that has the words that appear in one sentence and not\n",
    "#the other and an array with the words in common. \n",
    "\n",
    "sentence1 = 'We are really pleased to meet you in our city'\n",
    "sentence2 = 'The city was hit by a really heavy storm'\n",
    "\n",
    "def solution(sentence1, sentence2):\n",
    "    set1 = set(sentence1.split())\n",
    "    set2 = set(sentence2.split())\n",
    "    \n",
    "    return sorted(list(set1^set2)), sorted(list(set1&set2)) # ^ A.symmetric_difference(B), & A.intersection(B)\n",
    "\n",
    "print(solution(sentence1, sentence2))"
   ]
  },
  {
   "cell_type": "code",
   "execution_count": null,
   "id": "cc6c39f6-3eb1-481a-9468-eb70534769fe",
   "metadata": {},
   "outputs": [],
   "source": [
    "# Create a python script that calculates the avg of a list of integers \n",
    "\n",
    "n = int(input(\"Enter the number of elements to be inserted: \"))\n",
    "a = []\n",
    "\n",
    "for i in range(0,n):\n",
    "    elem = int(input(\"Enter element: \"))\n",
    "    a.append(elem)\n",
    "    avg = sum(a)/n\n",
    "    \n",
    "print(\"Average of elements in the list\",round(avg,2))"
   ]
  },
  {
   "cell_type": "code",
   "execution_count": null,
   "id": "d62fe1a7-b88d-458f-b0d0-1646c5328115",
   "metadata": {},
   "outputs": [],
   "source": [
    "# Create a python script that calculates the sum of the integers in a single number\n",
    "# Must utilize a while loop to come up with the solution\n",
    "\n",
    "n = int(input(\"Enter a number: \"))\n",
    "tot = 0\n",
    "while(n > 0):\n",
    "    dig = n%10\n",
    "    tot = tot+dig\n",
    "    n = n//10\n",
    "print(\"The total sum of digits is:\",tot)"
   ]
  },
  {
   "cell_type": "code",
   "execution_count": 13,
   "id": "a60e7e90-9b6d-46dd-9ce0-6199b237719d",
   "metadata": {},
   "outputs": [
    {
     "name": "stdin",
     "output_type": "stream",
     "text": [
      "Enter number:  9\n"
     ]
    },
    {
     "name": "stdout",
     "output_type": "stream",
     "text": [
      "The number of digits in the number is: 1\n"
     ]
    }
   ],
   "source": [
    "# Create a python script that counts the number of integers in a single number\n",
    "\n",
    "n = int(input(\"Enter number: \"))\n",
    "count = 0\n",
    "while (n > 0):\n",
    "    count=count+1\n",
    "    n = n//10\n",
    "    print(\"The number of digits in the number is:\",count)"
   ]
  },
  {
   "cell_type": "code",
   "execution_count": 16,
   "id": "71e6bd7c-3c2b-47c4-bfbf-af3974465e0c",
   "metadata": {},
   "outputs": [
    {
     "name": "stdin",
     "output_type": "stream",
     "text": [
      "Enter string:  Hello\n"
     ]
    },
    {
     "name": "stdout",
     "output_type": "stream",
     "text": [
      "Number of vowels are:\n",
      "2\n"
     ]
    }
   ],
   "source": [
    "# Create a python script to count the number of vowels in a string \n",
    "\n",
    "string = input(\"Enter string: \")\n",
    "vowels = 0\n",
    "for i in string:\n",
    "    if(i == 'a' or i == 'e' or i == 'i' or i == 'o' or i == 'u' or i == 'A' or i == 'E' or i == 'I' or i == 'O' or i == 'U'):\n",
    "        vowels = vowels+1\n",
    "    \n",
    "print(\"Number of vowels are:\")\n",
    "print(vowels)"
   ]
  },
  {
   "cell_type": "code",
   "execution_count": null,
   "id": "58fb0f42-c7fc-4c84-af48-4a50910d01d2",
   "metadata": {},
   "outputs": [],
   "source": []
  }
 ],
 "metadata": {
  "kernelspec": {
   "display_name": "Python 3",
   "language": "python",
   "name": "python3"
  },
  "language_info": {
   "codemirror_mode": {
    "name": "ipython",
    "version": 3
   },
   "file_extension": ".py",
   "mimetype": "text/x-python",
   "name": "python",
   "nbconvert_exporter": "python",
   "pygments_lexer": "ipython3",
   "version": "3.8.8"
  }
 },
 "nbformat": 4,
 "nbformat_minor": 5
}
